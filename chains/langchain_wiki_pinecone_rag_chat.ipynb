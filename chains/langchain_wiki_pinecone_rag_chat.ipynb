{
  "cells": [
    {
      "cell_type": "code",
      "source": [
        "!pip install -qU datasets sentence-transformers mwparserfromhell langchain==0.0.354 openai==1.6.1 pinecone-client==3.0.0 tiktoken==0.5.2"
      ],
      "metadata": {
        "id": "zdl9w46i13Du"
      },
      "execution_count": 116,
      "outputs": []
    },
    {
      "cell_type": "code",
      "source": [
        "from google.colab import userdata\n",
        "import time\n",
        "import os\n",
        "import bs4\n",
        "from langchain import hub\n",
        "from langchain.text_splitter import RecursiveCharacterTextSplitter\n",
        "from langchain_community.document_loaders import WebBaseLoader\n",
        "from langchain_community.vectorstores import Chroma\n",
        "from langchain_core.output_parsers import StrOutputParser\n",
        "from langchain_core.runnables import RunnablePassthrough\n",
        "#from langchain_openai import ChatOpenAI, OpenAIEmbeddings\n",
        "from langchain.embeddings import HuggingFaceBgeEmbeddings\n",
        "from langchain_community.llms import HuggingFaceHub\n",
        "from langchain.schema import (\n",
        "    HumanMessage,\n",
        "    SystemMessage,\n",
        ")\n",
        "from langchain_community.chat_models.huggingface import ChatHuggingFace\n",
        "from transformers import AutoTokenizer\n",
        "\n",
        "os.environ['LANGCHAIN_TRACING_V2'] = 'true'\n",
        "os.environ['LANGCHAIN_API_KEY'] = userdata.get('LANGSMITH')\n",
        "os.environ['HUGGINGFACEHUB_API_TOKEN'] = userdata.get('HF_TOKEN')\n",
        "os.environ[\"TAVILY_API_KEY\"] = userdata.get('TAVILY_KEY')"
      ],
      "metadata": {
        "id": "vHZ8Pj6boHQv"
      },
      "execution_count": 119,
      "outputs": []
    },
    {
      "cell_type": "markdown",
      "source": [
        "# Load Model"
      ],
      "metadata": {
        "id": "Ki5fmd5kn82L"
      }
    },
    {
      "cell_type": "code",
      "source": [
        "tokenizer = AutoTokenizer.from_pretrained(\"HuggingFaceH4/zephyr-7b-alpha\")\n",
        "\n",
        "embeddings = HuggingFaceBgeEmbeddings(\n",
        "    model_name=\"sentence-transformers/all-mpnet-base-v2\"\n",
        "    )\n",
        "\n",
        "llm = HuggingFaceHub(\n",
        "    repo_id=\"HuggingFaceH4/zephyr-7b-beta\",\n",
        "    task=\"text-generation\",\n",
        "    model_kwargs={\n",
        "        \"max_new_tokens\": 512,\n",
        "        \"top_k\": 30,\n",
        "        \"temperature\": 0.1,\n",
        "        \"repetition_penalty\": 1.03,\n",
        "        'include_prompt_in_result' : False,\n",
        "        \"return_full_text\": False\n",
        "    },\n",
        ")\n",
        "\n",
        "chat_model = ChatHuggingFace(llm=llm)"
      ],
      "metadata": {
        "id": "Jw6l565ln-pG",
        "outputId": "972b57db-78cd-4e55-fda0-06cbcd1b15e6",
        "colab": {
          "base_uri": "https://localhost:8080/"
        }
      },
      "execution_count": 120,
      "outputs": [
        {
          "output_type": "stream",
          "name": "stderr",
          "text": [
            "WARNING:langchain_community.llms.huggingface_text_gen_inference:WARNING! repo_id is not default parameter.\n",
            "                    repo_id was transferred to model_kwargs.\n",
            "                    Please confirm that repo_id is what you intended.\n",
            "WARNING:langchain_community.llms.huggingface_text_gen_inference:WARNING! task is not default parameter.\n",
            "                    task was transferred to model_kwargs.\n",
            "                    Please confirm that task is what you intended.\n",
            "WARNING:langchain_community.llms.huggingface_text_gen_inference:WARNING! huggingfacehub_api_token is not default parameter.\n",
            "                    huggingfacehub_api_token was transferred to model_kwargs.\n",
            "                    Please confirm that huggingfacehub_api_token is what you intended.\n"
          ]
        }
      ]
    },
    {
      "cell_type": "markdown",
      "metadata": {
        "id": "Pky5WOZZlsca"
      },
      "source": [
        "## Building the Knowledge Base"
      ]
    },
    {
      "cell_type": "code",
      "source": [
        "from datasets import load_dataset\n",
        "data = load_dataset(\"wikipedia\", \"20220301.simple\", split='train[:1000]')\n",
        "data[6]"
      ],
      "metadata": {
        "colab": {
          "base_uri": "https://localhost:8080/"
        },
        "id": "UdJqnZQt2Ku8",
        "outputId": "ae20b178-4098-46f5-cac3-8ed3d85ba813"
      },
      "execution_count": 121,
      "outputs": [
        {
          "output_type": "stream",
          "name": "stderr",
          "text": [
            "/usr/local/lib/python3.10/dist-packages/datasets/load.py:1454: FutureWarning: The repository for wikipedia contains custom code which must be executed to correctly load the dataset. You can inspect the repository content at https://hf.co/datasets/wikipedia\n",
            "You can avoid this message in future by passing the argument `trust_remote_code=True`.\n",
            "Passing `trust_remote_code=True` will be mandatory to load this dataset from the next major release of `datasets`.\n",
            "  warnings.warn(\n"
          ]
        },
        {
          "output_type": "execute_result",
          "data": {
            "text/plain": [
              "{'id': '13',\n",
              " 'url': 'https://simple.wikipedia.org/wiki/Alan%20Turing',\n",
              " 'title': 'Alan Turing',\n",
              " 'text': 'Alan Mathison Turing OBE FRS (London, 23 June 1912 – Wilmslow, Cheshire, 7 June 1954) was an English mathematician and computer scientist. He was born in Maida Vale, London.\\n\\nEarly life and family \\nAlan Turing was born in Maida Vale, London on 23 June 1912. His father was part of a family of merchants from Scotland. His mother, Ethel Sara, was the daughter of an engineer.\\n\\nEducation \\nTuring went to St. Michael\\'s, a school at 20 Charles Road, St Leonards-on-sea, when he was five years old.\\n\"This is only a foretaste of what is to come, and only the shadow of what is going to be.” – Alan Turing.\\n\\nThe Stoney family were once prominent landlords, here in North Tipperary. His mother Ethel Sara Stoney (1881–1976) was daughter of Edward Waller Stoney (Borrisokane, North Tipperary) and Sarah Crawford (Cartron Abbey, Co. Longford); Protestant Anglo-Irish gentry.\\n\\nEducated in Dublin at Alexandra School and College; on October 1st 1907 she married Julius Mathison Turing, latter son of Reverend John Robert Turing and Fanny Boyd, in Dublin. Born on June 23rd 1912, Alan Turing would go on to be regarded as one of the greatest figures of the twentieth century.\\n\\nA brilliant mathematician and cryptographer Alan was to become the founder of modern-day computer science and artificial intelligence; designing a machine at Bletchley Park to break secret Enigma encrypted messages used by the Nazi German war machine to protect sensitive commercial, diplomatic and military communications during World War 2. Thus, Turing made the single biggest contribution to the Allied victory in the war against Nazi Germany, possibly saving the lives of an estimated 2 million people, through his effort in shortening World War II.\\n\\nIn 2013, almost 60 years later, Turing received a posthumous Royal Pardon from Queen Elizabeth II. Today, the “Turing law” grants an automatic pardon to men who died before the law came into force, making it possible for living convicted gay men to seek pardons for offences now no longer on the statute book.\\n\\nAlas, Turing accidentally or otherwise lost his life in 1954, having been subjected by a British court to chemical castration, thus avoiding a custodial sentence. He is known to have ended his life at the age of 41 years, by eating an apple laced with cyanide.\\n\\nCareer \\nTuring was one of the people who worked on the first computers. He created the theoretical  Turing machine in 1936. The machine was imaginary, but it included the idea of a computer program.\\n\\nTuring was interested in artificial intelligence. He proposed the Turing test, to say when a machine could be called \"intelligent\". A computer could be said to \"think\" if a human talking with it could not tell it was a machine.\\n\\nDuring World War II, Turing worked with others to break German ciphers (secret messages). He  worked for the Government Code and Cypher School (GC&CS) at Bletchley Park, Britain\\'s codebreaking centre that produced Ultra intelligence.\\nUsing cryptanalysis, he helped to break the codes of the Enigma machine. After that, he worked on other German codes.\\n\\nFrom 1945 to 1947, Turing worked on the design of the ACE (Automatic Computing Engine) at the National Physical Laboratory. He presented a paper on 19 February 1946. That paper was \"the first detailed design of a stored-program computer\". Although it was possible to build ACE, there were delays in starting the project. In late 1947 he returned to Cambridge for a sabbatical year. While he was at Cambridge, the Pilot ACE was built without him. It ran its first program on 10\\xa0May 1950.\\n\\nPrivate life \\nTuring was a homosexual man. In 1952, he admitted having had sex with a man in England. At that time, homosexual acts were illegal. Turing was convicted. He had to choose between going to jail and taking hormones to lower his sex drive. He decided to take the hormones. After his punishment, he became impotent. He also grew breasts.\\n\\nIn May 2012, a private member\\'s bill was put before the House of Lords to grant Turing a statutory pardon. In July 2013, the government supported it. A royal pardon was granted on 24 December 2013.\\n\\nDeath \\nIn 1954, Turing died from cyanide poisoning. The cyanide came from either an apple which was poisoned with cyanide, or from water that had cyanide in it. The reason for the confusion is that the police never tested the apple for cyanide. It is also suspected that he committed suicide.\\n\\nThe treatment forced on him is now believed to be very wrong. It is against medical ethics and international laws of human rights. In August 2009, a petition asking the British Government to apologise to Turing for punishing him for being a homosexual was started. The petition received thousands of signatures. Prime Minister Gordon Brown acknowledged the petition. He called Turing\\'s treatment \"appalling\".\\n\\nReferences\\n\\nOther websites \\nJack Copeland 2012. Alan Turing: The codebreaker who saved \\'millions of lives\\'. BBC News / Technology \\n\\nEnglish computer scientists\\nEnglish LGBT people\\nEnglish mathematicians\\nGay men\\nLGBT scientists\\nScientists from London\\nSuicides by poison\\nSuicides in the United Kingdom\\n1912 births\\n1954 deaths\\nOfficers of the Order of the British Empire'}"
            ]
          },
          "metadata": {},
          "execution_count": 121
        }
      ]
    },
    {
      "cell_type": "code",
      "execution_count": 122,
      "metadata": {
        "id": "a3ChSxlcwX8n",
        "colab": {
          "base_uri": "https://localhost:8080/"
        },
        "outputId": "b075d13f-422f-461f-9338-52a067cfdbcd"
      },
      "outputs": [
        {
          "output_type": "execute_result",
          "data": {
            "text/plain": [
              "30"
            ]
          },
          "metadata": {},
          "execution_count": 122
        }
      ],
      "source": [
        "# create the length function\n",
        "def tokenized_len(text):\n",
        "    return len(tokenizer.encode(text))\n",
        "\n",
        "# to get encoding of other models. not needed\n",
        "# import tiktoken\n",
        "# tiktoken.encoding_for_model('gpt-3.5-turbo')\n",
        "# tokenizer = tiktoken.get_encoding('cl100k_base')\n",
        "\n",
        "tokenized_len(\"hello I am a chunk of text and using the tiktoken_len function \"\n",
        "             \"we can find the length of this chunk of text in tokens\")"
      ]
    },
    {
      "cell_type": "code",
      "execution_count": 123,
      "metadata": {
        "id": "58J-y6GHtvQP",
        "colab": {
          "base_uri": "https://localhost:8080/"
        },
        "outputId": "7a467ae8-8f09-4170-8b3e-e42f4ae9d2dd"
      },
      "outputs": [
        {
          "output_type": "execute_result",
          "data": {
            "text/plain": [
              "(364, 363, 373)"
            ]
          },
          "metadata": {},
          "execution_count": 123
        }
      ],
      "source": [
        "from langchain.text_splitter import RecursiveCharacterTextSplitter\n",
        "\n",
        "text_splitter = RecursiveCharacterTextSplitter(\n",
        "    chunk_size=400,\n",
        "    chunk_overlap=20,\n",
        "    length_function=tokenized_len,\n",
        "    separators=[\"\\n\\n\", \"\\n\", \" \", \"\"]\n",
        ")\n",
        "\n",
        "chunks = text_splitter.split_text(data[6]['text'])\n",
        "tokenized_len(chunks[0]), tokenized_len(chunks[1]), tokenized_len(chunks[2]) # at most 400"
      ]
    },
    {
      "cell_type": "markdown",
      "metadata": {
        "id": "QPUmWYSA43eC"
      },
      "source": [
        "# Vector Database"
      ]
    },
    {
      "cell_type": "code",
      "execution_count": 124,
      "metadata": {
        "id": "3aHIbeYLlscj"
      },
      "outputs": [],
      "source": [
        "from pinecone import Pinecone\n",
        "from pinecone import ServerlessSpec, PodSpec\n",
        "\n",
        "api_key = os.getenv(\"PINECONE_API_KEY\") or userdata.get('PINECONE_API_KEY')\n",
        "pc = Pinecone(api_key=api_key)\n",
        "spec = PodSpec(environment=\"gcp-starter\")"
      ]
    },
    {
      "cell_type": "code",
      "execution_count": 125,
      "metadata": {
        "colab": {
          "base_uri": "https://localhost:8080/"
        },
        "id": "9pT9C4nW4vwo",
        "outputId": "159ac511-de0b-4932-8490-3a27b90c9f0b"
      },
      "outputs": [
        {
          "output_type": "execute_result",
          "data": {
            "text/plain": [
              "{'dimension': 768,\n",
              " 'index_fullness': 0.03524,\n",
              " 'namespaces': {'': {'vector_count': 3524}},\n",
              " 'total_vector_count': 3524}"
            ]
          },
          "metadata": {},
          "execution_count": 125
        }
      ],
      "source": [
        "import time\n",
        "\n",
        "index_name = 'langchain-retrieval-augmentation'\n",
        "existing_indexes = [\n",
        "    index_info[\"name\"] for index_info in pc.list_indexes()\n",
        "]\n",
        "\n",
        "# check if index already exists (it shouldn't if this is first time)\n",
        "if index_name not in existing_indexes:\n",
        "    # if does not exist, create index\n",
        "    pc.create_index(\n",
        "        index_name,\n",
        "        dimension=768,  # dimensionality of stentence tranformer\n",
        "        metric='cosine',\n",
        "        spec=spec\n",
        "    )\n",
        "    # wait for index to be initialized\n",
        "    while not pc.describe_index(index_name).status['ready']:\n",
        "        time.sleep(1)\n",
        "\n",
        "# connect to index\n",
        "index = pc.Index(index_name)\n",
        "time.sleep(1)\n",
        "# view index stats\n",
        "index.describe_index_stats()"
      ]
    },
    {
      "cell_type": "markdown",
      "metadata": {
        "id": "0RqIF2mIDwFu"
      },
      "source": [
        "We should see that the new Pinecone index has a `total_vector_count` of `0`, as we haven't added any vectors yet.\n",
        "\n",
        "## Indexing\n",
        "\n",
        "We can perform the indexing task using the LangChain vector store object. But for now it is much faster to do it via the Pinecone python client directly. We will do this in batches of `100` or more."
      ]
    },
    {
      "cell_type": "code",
      "execution_count": 111,
      "metadata": {
        "colab": {
          "base_uri": "https://localhost:8080/",
          "height": 49,
          "referenced_widgets": [
            "2e8fb824899e424d9cce394cf1b280b0",
            "de851901828f420eb44907b6119f0fa7",
            "2d65c70aa0f742818a6c2f95e378f360",
            "225d5af01dea4b2a8289964fda924eb5",
            "bb8df9fd8800411eac39d520b1a0d755",
            "4517063c6198498a88b4c255b546c301",
            "1d009f979c18447798f8b391c9c9622e",
            "95323b20bcee43ac8345da85ce09fb93",
            "d180615a06d74216825c85b13384d597",
            "eef3d65601244a11812a7ed28c2062a7",
            "277c7f03e19f489991014af10b349c66"
          ]
        },
        "id": "W-cIOoTWGY1R",
        "outputId": "78df9fcd-5a4e-4ff2-e2be-a78d3c7ae56a"
      },
      "outputs": [
        {
          "data": {
            "application/vnd.jupyter.widget-view+json": {
              "model_id": "2e8fb824899e424d9cce394cf1b280b0",
              "version_major": 2,
              "version_minor": 0
            },
            "text/plain": [
              "  0%|          | 0/1000 [00:00<?, ?it/s]"
            ]
          },
          "metadata": {},
          "output_type": "display_data"
        }
      ],
      "source": [
        "from tqdm.auto import tqdm\n",
        "from uuid import uuid4\n",
        "\n",
        "batch_limit = 100\n",
        "texts = []\n",
        "metadatas = []\n",
        "\n",
        "for i, record in enumerate(tqdm(data)):\n",
        "    # first get metadata fields for this record\n",
        "    metadata = {\n",
        "        'wiki-id': str(record['id']),\n",
        "        'source': record['url'],\n",
        "        'title': record['title']\n",
        "    }\n",
        "\n",
        "    # now we create chunks from the record text\n",
        "    record_texts = text_splitter.split_text(record['text'])\n",
        "\n",
        "    # create individual metadata dicts for each chunk\n",
        "    record_metadatas = [{\n",
        "        \"chunk\": j, \"text\": text, **metadata\n",
        "    } for j, text in enumerate(record_texts)]\n",
        "\n",
        "    # append these to current batches\n",
        "    texts.extend(record_texts)\n",
        "    metadatas.extend(record_metadatas)\n",
        "\n",
        "    # if we have reached the batch_limit we can add texts\n",
        "    if len(texts) >= batch_limit:\n",
        "        ids = [str(uuid4()) for _ in range(len(texts))]\n",
        "        embeds = embeddings.embed_documents(texts)\n",
        "        index.upsert(vectors=zip(ids, embeds, metadatas))\n",
        "        texts = []\n",
        "        metadatas = []\n",
        "\n",
        "if len(texts) > 0:\n",
        "    ids = [str(uuid4()) for _ in range(len(texts))]\n",
        "    embeds = embeddings.embed_documents(texts)\n",
        "    index.upsert(vectors=zip(ids, embeds, metadatas))"
      ]
    },
    {
      "cell_type": "code",
      "execution_count": 52,
      "metadata": {
        "colab": {
          "base_uri": "https://localhost:8080/"
        },
        "id": "CaEBhsAM22M3",
        "outputId": "0ec69908-e86c-4f74-9f85-0115265e17c8"
      },
      "outputs": [
        {
          "output_type": "execute_result",
          "data": {
            "text/plain": [
              "{'dimension': 768,\n",
              " 'index_fullness': 0.03172,\n",
              " 'namespaces': {'': {'vector_count': 3172}},\n",
              " 'total_vector_count': 3172}"
            ]
          },
          "metadata": {},
          "execution_count": 52
        }
      ],
      "source": [
        "index.describe_index_stats()"
      ]
    },
    {
      "cell_type": "markdown",
      "metadata": {
        "id": "-8P2PryCy8W3"
      },
      "source": [
        "## Creating a Vector Store and Querying\n",
        "\n",
        "Now that we've build our index we can switch back over to LangChain. We start by initializing a vector store using the same index we just built. We do that like so:"
      ]
    },
    {
      "cell_type": "code",
      "execution_count": 127,
      "metadata": {
        "id": "qMXlvXOAyJHy"
      },
      "outputs": [],
      "source": [
        "# initialize a langchain vectorstore based off the Pinecone index\n",
        "\n",
        "from langchain.vectorstores import Pinecone\n",
        "\n",
        "text_field = \"text\"\n",
        "vectorstore = Pinecone(\n",
        "    index, embeddings.embed_query, text_field\n",
        ")"
      ]
    },
    {
      "cell_type": "code",
      "source": [
        "query = \" the “Turing law” grants an automatic pardon to men who died before the law came into force, making it possible for living convicted gay men to seek pardons for offences now no longer on the statute book.\\n\\nAlas\"\n",
        "query = 'Returned to Cambridge from sabbatical'\n",
        "query = 'he returned to Cambridge'\n",
        "\n",
        "vectorstore.similarity_search(\n",
        "    query,  # our search query\n",
        "    k=2  # return 1 most relevant docs\n",
        ")"
      ],
      "metadata": {
        "colab": {
          "base_uri": "https://localhost:8080/"
        },
        "id": "a-wPHYpkF4Bt",
        "outputId": "db767b36-46b8-4309-9624-ac4fef63a265"
      },
      "execution_count": 142,
      "outputs": [
        {
          "output_type": "execute_result",
          "data": {
            "text/plain": [
              "[Document(page_content=\"Sources \\n Richard B. Todd, ed. (2004). Dictionary of British Classicists, 1500–1960, Bristol: Thoemmes Continuum, 2004 .\\n Kelly Boyd, ed. (1999). Encyclopedia of Historians and Historical Writing. London [etc.] : Fitzroy Dearborn \\n Lateiner, D. (1989). The historical method of Herodotus. Phoenix, 23. Toronto: University of Toronto Press.\\n John Cannon et al., eds. (1988). The Blackwell Dictionary of Historians. Oxford: Blackwell Publishers, 1988 .\\n Hartog, F. (1988). The mirror of Herodotus: the representation of the other in the writing of history. Berkeley: University of California Press.\\n Erik Christiansen (1970). The Last Hundred Years of the Roman Republic, Odense: Andelsbogtrykkeriet\\n Gottschalk, L. R. (1950). Understanding history; a primer of historical method. New York: Knopf\\n Barnes, M. S. (1896). Studies in historical method. Heath's pedagogical library. Boston: D.C. Heath & Co.\", metadata={'chunk': 1.0, 'source': 'https://simple.wikipedia.org/wiki/Historian', 'title': 'Historian', 'wiki-id': '349'}),\n",
              " Document(page_content='References\\n\\nBasic English 850 words', metadata={'chunk': 1.0, 'source': 'https://simple.wikipedia.org/wiki/Green', 'title': 'Green', 'wiki-id': '308'})]"
            ]
          },
          "metadata": {},
          "execution_count": 142
        }
      ]
    },
    {
      "cell_type": "markdown",
      "metadata": {
        "id": "ZCvtmREd0pdo"
      },
      "source": [
        "# Generative Question-Answering"
      ]
    },
    {
      "cell_type": "code",
      "source": [
        "messages = [\n",
        "    SystemMessage(content=\"You're a helpful assistant\"),\n",
        "    HumanMessage(content=\"Name a few dictators mentioned?\"),\n",
        "]\n",
        "\n",
        "# chat model understands the expected prompt template. Interesting because I previously thought it's dumb.\n",
        "chat_model._to_chat_prompt(messages)"
      ],
      "metadata": {
        "colab": {
          "base_uri": "https://localhost:8080/",
          "height": 35
        },
        "id": "4xCg3MeAUoVU",
        "outputId": "4d7d176c-e956-47d4-867e-f1932302d2d8"
      },
      "execution_count": 143,
      "outputs": [
        {
          "output_type": "execute_result",
          "data": {
            "text/plain": [
              "\"<|system|>\\nYou're a helpful assistant</s>\\n<|user|>\\nName a few dictators mentioned?</s>\\n<|assistant|>\\n\""
            ],
            "application/vnd.google.colaboratory.intrinsic+json": {
              "type": "string"
            }
          },
          "metadata": {},
          "execution_count": 143
        }
      ]
    },
    {
      "cell_type": "code",
      "source": [
        "chat_model.invoke(messages)"
      ],
      "metadata": {
        "colab": {
          "base_uri": "https://localhost:8080/"
        },
        "id": "pcQsATfkVGt1",
        "outputId": "9294e36e-d59d-4f29-b1e9-ae5e0a6f261d"
      },
      "execution_count": 144,
      "outputs": [
        {
          "output_type": "execute_result",
          "data": {
            "text/plain": [
              "AIMessage(content=\"<|system|>\\nYou're a helpful assistant</s>\\n<|user|>\\nName a few dictators mentioned?</s>\\n<|assistant|>\\nI do not have the context of which text or conversation you are referring to. Please provide more information so I can accurately answer your question.\\n\\nthat being said, some famous dictators in history include adolf hitler (germany), benito mussolini (italy), joseph stalin (soviet union), franco (spain), pol pot (cambodia), idi amin (uganda), saddam hussein (iraq), and muammar gaddafi (libya).\")"
            ]
          },
          "metadata": {},
          "execution_count": 144
        }
      ]
    },
    {
      "cell_type": "code",
      "source": [
        "# from langchain.cache import InMemoryCache\n",
        "# from langchain.globals import set_llm_cache\n",
        "\n",
        "# set_llm_cache(InMemoryCache())"
      ],
      "metadata": {
        "id": "niBFkRRltwou"
      },
      "execution_count": 145,
      "outputs": []
    },
    {
      "cell_type": "code",
      "execution_count": 146,
      "metadata": {
        "id": "moCvQR-p0Zsb",
        "colab": {
          "base_uri": "https://localhost:8080/"
        },
        "outputId": "7957985d-0de1-4e5e-fa5b-b306284fe26b"
      },
      "outputs": [
        {
          "output_type": "stream",
          "name": "stdout",
          "text": [
            " Some of the dictators mentioned include Juan Perón (Argentina), Jorge Rafael Videla (Argentina), Leopoldo Galtieri (Argentina), Augusto Pinochet (Chile), Pol Pot (Cambodia), Ferdinand Marcos (Philippines), Corazon Aquino (Philippines), Fidel Castro (Cuba), and Nicolae Ceaușescu (Romania).\n"
          ]
        }
      ],
      "source": [
        "from langchain.chains import RetrievalQA\n",
        "\n",
        "qa = RetrievalQA.from_chain_type(\n",
        "    llm=llm,\n",
        "    chain_type=\"stuff\",\n",
        "    retriever=vectorstore.as_retriever()\n",
        ")\n",
        "\n",
        "qa_chat = RetrievalQA.from_chain_type(\n",
        "    llm=chat_model,\n",
        "    chain_type=\"stuff\",\n",
        "    retriever=vectorstore.as_retriever()\n",
        ")\n",
        "\n",
        "query = 'What are some of the dictators mentioned?'\n",
        "print(qa.run(query))"
      ]
    },
    {
      "cell_type": "code",
      "source": [
        "print(qa_chat.run(query)) # run() doesn't return list and just generated text (even if the llm was initalized to return the prompt within response.)"
      ],
      "metadata": {
        "id": "nHdTeBE7Li2_",
        "outputId": "c52cd3ad-f85e-43f4-f7b8-147839b4c1c1",
        "colab": {
          "base_uri": "https://localhost:8080/"
        }
      },
      "execution_count": 147,
      "outputs": [
        {
          "output_type": "stream",
          "name": "stdout",
          "text": [
            "Some of the dictators mentioned are:\n",
            "\n",
            "1. Jorge Rafael Videla (Argentina) - dictator from 1976 to 1981\n",
            "2. Leopoldo Galtieri (Argentina) - dictator from 1981 to 1982\n",
            "3. Augusto Pinochet (Chile) - Chilean dictator from 1973 to 1990\n",
            "4. Francisco Franco (Spain) - dictator until 1975\n",
            "5. Muammar al-Gaddafi (Libya) - dictator\n",
            "6. Saddam Hussein (Iraq) - dictator until 2003\n",
            "7. Nicolae Ceaușescu (Romania) - dictator until 1989\n",
            "8. Ayatollah Khomeini (Iran) - leader of Iran\n",
            "\n",
            "Note: Some of the leaders mentioned, such as Juan Perón and Juan Domingo Perón, were democratically elected presidents of Argentina, but they were also considered authoritarian figures due to their policies and actions.\n"
          ]
        }
      ]
    },
    {
      "cell_type": "markdown",
      "source": [
        "## Retrieval with Sources"
      ],
      "metadata": {
        "id": "FiMpvUQCZwL-"
      }
    },
    {
      "cell_type": "markdown",
      "source": [
        "1. The \"sources\" output relies on text splitting the model output into (answers, sources) pair and isn't very robust. Just rely on source_documents instead.\n",
        "2. This is true even if we specify return_full_text = False\n",
        "3. Sometimes the string \"source\" is missing from model output (because model isn't that good.)\n",
        "4. Sometimes, model doesn't seem to be responding to the right question and returning the example in template. Maybe a splitting issue, or model context window issue?\n",
        "5. Sometimes the model output is too big that is stops before actually completing the response (tunable)."
      ],
      "metadata": {
        "id": "44B6uLO33PjH"
      }
    },
    {
      "cell_type": "code",
      "execution_count": 148,
      "metadata": {
        "id": "aYVMGDA13cTz",
        "colab": {
          "base_uri": "https://localhost:8080/"
        },
        "outputId": "12f50184-f2a8-405f-8ad3-f4fcd784727a"
      },
      "outputs": [
        {
          "output_type": "stream",
          "name": "stdout",
          "text": [
            "{'question': 'What are some of the dictators mentioned?', 'answer': ' The dictators mentioned include Juan Perón, Jorge Rafael Videla, and Leopoldo Galtieri from Argentina; Salvador Allende and Augusto Pinochet from Chile; Emiliano Zápata and Pancho Villa from Mexico; José María Velasco Ibarra, León Febres Cordero, and Sixto Durán Ballén from Ecuador; Mao Zedong and Deng Xiaoping from China; Pol Pot from Cambodia; Netaji Subhas Chandra Bose, Mahatma Gandhi, Indira Gandhi, Muhammad Ali Jinnah, Sheikh Mujibur Rahman, Mahathir Mohamad, Jawaharlal Nehru, Deshbandhu Chittaranjan Das, Emperor Hirohito, Ho Chi Minh, Sun Yat-sen, Chiang Kai-shek, Achmad Sukarno, Lee Kuan Yew, King Faisal I, King Ghazi, King Faisal II, W.T. Cosgrave, Éamon de Valera, Taoiseach Éamon de Valera, King Victor Emmanuel III, Prime Minister Benito Mussolini, Emperor Hirohito, Emir Ahmad Al-Jaber Al-Sabah, Prime Minister António de Oliveira Salazar, Sultan Mohammed V, Prime Minister Michael Joseph Savage, President Paul von Hindenburg, Prime Minister James Barry Munnik Hertzog, General Secretary Joseph Stalin, President Alcalá Zamora, Prime Minister Manuel Azaña, Prime Minister Alejandro Lerroux, Bey (Crown Prince) Ahmad II, President Bahij al-Khatib, Bey (Crown Prince) Muhammad ibn al-Habib, King Hassan II, Pope John Paul I, Pope John Paul II, Norman Lear, Pete Maravich, Francisco Franco, Ayatollah Khomeini, Yasser Arafat, Arnold Schwarzenegger, Sylvester Stallone, Michael Jordan, Tom Cruise, Eddie Murphy, Duran Duran, Eurythmics, Prince, Madonna, Michael Jackson, Bob Geldof, Iron Maiden, N.W.A, Ferdinand Marcos, Corazon Aquino, Indira Gandhi, Rajiv Gandhi, Fidel Castro, August', 'sources': '', 'source_documents': [Document(page_content=\"Juan Perón, Argentina\\n Jorge Rafael Videla, Argentina\\n Leopoldo Galtieri, Argentina\\n Salvador Allende, Chile\\n Augusto Pinochet, Chile\\n Emiliano Zápata, Mexico\\n Pancho Villa, Mexico\\n José María Velasco Ibarra, Ecuador\\n León Febres Cordero, Ecuador\\n Sixto Durán Ballén, Ecuador\\n Asia\\n Mao Zedong, People's Republic of China\\n Deng Xiaoping, People's Republic of China\\n Pol Pot, Cambodia\\n Netaji Subhas Chandra Bose\\n Mahatma Gandhi, India\\n Indira Gandhi, India\\n Muhammad Ali Jinnah, Pakistan\\nSheikh Mujibur Rahman, Bangladesh\\n Mahathir Mohamad, Malaysia\\n Jawaharlal Nehru, India\\n Deshbandhu Chittaranjan Das, India\\n Emperor Hirohito, Japan\\n Ho Chi Minh, Vietnam\\n Sun Yat-sen, Republic of China\\n Chiang Kai-shek, Republic of China\\n Achmad Sukarno, Indonesia\\n Lee Kuan Yew, Singapore\\n Europe\\n Kemal Atatürk, Turkey\\n Neville Chamberlain, United Kingdom\\n Winston Churchill, United Kingdom\\n Margaret Thatcher, United Kingdom\", metadata={'chunk': 2.0, 'source': 'https://simple.wikipedia.org/wiki/20th%20century', 'title': '20th century', 'wiki-id': '3407'}), Document(page_content='World leaders \\n King Faisal I (Iraq)\\n King Ghazi (Iraq)\\n King Faisal II (Iraq)\\n President of the Executive Council W.T. Cosgrave (Irish Free State)\\n President of the Executive Council Éamon de Valera (Irish Free State)\\n Taoiseach Éamon de Valera (Éire)\\n King Victor Emmanuel III (Italy)\\n Prime Minister Benito Mussolini (Italy)\\n Emperor Hirohito (Japan)\\n Emir Ahmad Al-Jaber Al-Sabah (Kuwait)\\n Prime Minister António de Oliveira Salazar (Portugal)\\n Sultan Mohammed V (Morocco)\\n Prime Minister Michael Joseph Savage (New Zealand)\\n President Paul von Hindenburg (Germany)\\n Prime Minister James Barry Munnik Hertzog (South Africa)\\n General Secretary Joseph Stalin (Soviet Union)\\n President Alcalá Zamora (Spain)\\n Prime Minister Manuel Azaña (Spain)\\n Prime Minister Alejandro Lerroux (Spain\\n President Bahij al-Khatib (Syria)\\n Bey (Crown Prince) Ahmad II (Tunisia)\\n President Mustafa Kemal Atatürk (Turkey)\\n King George V (United Kingdom)\\n King Edward VIII (United Kingdom)', metadata={'chunk': 1.0, 'source': 'https://simple.wikipedia.org/wiki/1930s', 'title': '1930s', 'wiki-id': '2923'}), Document(page_content=\"Yasser Arafat, Palestinian leader\\n Germaine Greer, Australian feminist\\n Hirohito, emperor of Japan\\n Pope John Paul I, pope only in the year 1978\\n Pope John Paul II, pope 1978–2005\\n Norman Lear, American TV producer\\n Pete Maravich, United States basketball player\\n Francisco Franco, dictator of Spain until 1975\\n Deng Xiaoping, leader in China beginning in 1978\\n Mao Zedong, leader in China until 1976\\n Pope Paul VI, pope until 1978\\n Mohammad Reza Pahlavi, Shah of Iran until 1979\\n Ayatollah Khomeini\\n Juan Perón, President of Argentina until 1974\\n Jorge Rafael Videla, dictator of Argentina beginning 1976\\n Muammar al-Gaddafi, dictator Libyan\\n Pelé, Brazilian football player\\n Pol Pot, prime minister of Cambodia from 1976 to 1979\\n Anwar Sadat, president of Egypt beginning in 1970\\n Helmut Schmidt, German chancellor beginning in 1974\\n Georges Pompidou, president of France from 1969 to 1974\\n Valéry Giscard d'Estaing, President of France beginning in 1974\\n Gloria Steinem, American feminist\", metadata={'chunk': 5.0, 'source': 'https://simple.wikipedia.org/wiki/1970s', 'title': '1970s', 'wiki-id': '2952'}), Document(page_content='Yasser Arafat, Palestinian leader\\n Arnold Schwarzenegger, Austrian actor\\n Sylvester Stallone, American actor\\n Michael Jordan, American basketball-player\\n Tom Cruise, American actor\\n Eddie Murphy, American actor\\n Duran Duran, English band\\n Eurythmics, music band\\n Prince, American singer\\n Madonna, American singer\\n Michael Jackson, American singer\\n Bob Geldof, musician and fundraiser\\n Iron Maiden, British heavy metal band\\n N.W.A, hip hop group\\n Ferdinand Marcos, President of the Philippines\\n Corazon Aquino, President of the Philippines\\n Indira Gandhi, prime minister of India until 1984\\n Rajiv Gandhi, prime minister of India from 1984 until 1989\\n Fidel Castro, leader of Cuba\\n Augusto Pinochet, Chilean dictator\\n Jorge Rafael Videla, dictator of Argentina until 1981\\n Leopoldo Galtieri, dictator of Argentina from 1981 to 1982\\n Nicolae Ceaușescu, Romanian dictator until 1989\\n Wojciech Jaruzelski, Polish communist leader\\n Lech Walesa, leader of Polish Solidarity movement\\n Ayatollah Khomeini, leader of Iran\\n Mikhail Gorbachev, the last chairman of the communist party of the Soviet Union.', metadata={'chunk': 4.0, 'source': 'https://simple.wikipedia.org/wiki/1980s', 'title': '1980s', 'wiki-id': '2953'})]}\n",
            "====================================================\n",
            "{'question': 'What are some of the dictators mentioned?', 'answer': \"The following individuals were mentioned as dictators: Juan Perón (Argentina), Jorge Rafael Videla (Argentina), Leopoldo Galtieri (Argentina), Salvador Allende (Chile), Augusto Pinochet (Chile), Emiliano Zápata (Mexico), Pancho Villa (Mexico), José María Velasco Ibarra (Ecuador), León Febres Cordero (Ecuador), Sixto Durán Ballén (Ecuador), Mao Zedong (People's Republic of China), Deng Xiaoping (People's Republic of China), Pol Pot (Cambodia), Netaji Subhas Chandra Bose, Mahatma Gandhi (India), Indira Gandhi (India), Muhammad Ali Jinnah (Pakistan), Sheikh Mujibur Rahman (Bangladesh), Mahathir Mohamad (Malaysia), Jawaharlal Nehru (India), Deshbandhu Chittaranjan Das (India), Emperor Hirohito (Japan), Ho Chi Minh (Vietnam), Sun Yat-sen (Republic of China), Chiang Kai-shek (Republic of China), Achmad Sukarno (Indonesia), Lee Kuan Yew (Singapore), Kemal Atatürk (Turkey), Neville Chamberlain (United Kingdom), Winston Churchill (United Kingdom), Margaret Thatcher (United Kingdom), King Faisal I (Iraq), King Ghazi (Iraq), King Faisal II (Iraq), President of the Executive Council W.T. Cosgrave (Irish Free State), President of the Executive Council Éamon de Valera (Irish Free State), Taoiseach Éamon de Valera (Éire), King Victor Emmanuel III (Italy), Prime Minister Benito Mussolini (Italy), Emperor Hirohito (Japan), Emir Ahmad Al-Jaber Al-Sabah (Kuwait), Prime Minister António de Oliveira Salazar (Portugal), Sultan Mohammed V (Morocco), Prime Minister Michael Joseph Savage (New Zealand), President Paul von Hindenburg (Germany), Prime Minister James Barry Munnik H\", 'sources': '', 'source_documents': [Document(page_content=\"Juan Perón, Argentina\\n Jorge Rafael Videla, Argentina\\n Leopoldo Galtieri, Argentina\\n Salvador Allende, Chile\\n Augusto Pinochet, Chile\\n Emiliano Zápata, Mexico\\n Pancho Villa, Mexico\\n José María Velasco Ibarra, Ecuador\\n León Febres Cordero, Ecuador\\n Sixto Durán Ballén, Ecuador\\n Asia\\n Mao Zedong, People's Republic of China\\n Deng Xiaoping, People's Republic of China\\n Pol Pot, Cambodia\\n Netaji Subhas Chandra Bose\\n Mahatma Gandhi, India\\n Indira Gandhi, India\\n Muhammad Ali Jinnah, Pakistan\\nSheikh Mujibur Rahman, Bangladesh\\n Mahathir Mohamad, Malaysia\\n Jawaharlal Nehru, India\\n Deshbandhu Chittaranjan Das, India\\n Emperor Hirohito, Japan\\n Ho Chi Minh, Vietnam\\n Sun Yat-sen, Republic of China\\n Chiang Kai-shek, Republic of China\\n Achmad Sukarno, Indonesia\\n Lee Kuan Yew, Singapore\\n Europe\\n Kemal Atatürk, Turkey\\n Neville Chamberlain, United Kingdom\\n Winston Churchill, United Kingdom\\n Margaret Thatcher, United Kingdom\", metadata={'chunk': 2.0, 'source': 'https://simple.wikipedia.org/wiki/20th%20century', 'title': '20th century', 'wiki-id': '3407'}), Document(page_content='World leaders \\n King Faisal I (Iraq)\\n King Ghazi (Iraq)\\n King Faisal II (Iraq)\\n President of the Executive Council W.T. Cosgrave (Irish Free State)\\n President of the Executive Council Éamon de Valera (Irish Free State)\\n Taoiseach Éamon de Valera (Éire)\\n King Victor Emmanuel III (Italy)\\n Prime Minister Benito Mussolini (Italy)\\n Emperor Hirohito (Japan)\\n Emir Ahmad Al-Jaber Al-Sabah (Kuwait)\\n Prime Minister António de Oliveira Salazar (Portugal)\\n Sultan Mohammed V (Morocco)\\n Prime Minister Michael Joseph Savage (New Zealand)\\n President Paul von Hindenburg (Germany)\\n Prime Minister James Barry Munnik Hertzog (South Africa)\\n General Secretary Joseph Stalin (Soviet Union)\\n President Alcalá Zamora (Spain)\\n Prime Minister Manuel Azaña (Spain)\\n Prime Minister Alejandro Lerroux (Spain\\n President Bahij al-Khatib (Syria)\\n Bey (Crown Prince) Ahmad II (Tunisia)\\n President Mustafa Kemal Atatürk (Turkey)\\n King George V (United Kingdom)\\n King Edward VIII (United Kingdom)', metadata={'chunk': 1.0, 'source': 'https://simple.wikipedia.org/wiki/1930s', 'title': '1930s', 'wiki-id': '2923'}), Document(page_content=\"Yasser Arafat, Palestinian leader\\n Germaine Greer, Australian feminist\\n Hirohito, emperor of Japan\\n Pope John Paul I, pope only in the year 1978\\n Pope John Paul II, pope 1978–2005\\n Norman Lear, American TV producer\\n Pete Maravich, United States basketball player\\n Francisco Franco, dictator of Spain until 1975\\n Deng Xiaoping, leader in China beginning in 1978\\n Mao Zedong, leader in China until 1976\\n Pope Paul VI, pope until 1978\\n Mohammad Reza Pahlavi, Shah of Iran until 1979\\n Ayatollah Khomeini\\n Juan Perón, President of Argentina until 1974\\n Jorge Rafael Videla, dictator of Argentina beginning 1976\\n Muammar al-Gaddafi, dictator Libyan\\n Pelé, Brazilian football player\\n Pol Pot, prime minister of Cambodia from 1976 to 1979\\n Anwar Sadat, president of Egypt beginning in 1970\\n Helmut Schmidt, German chancellor beginning in 1974\\n Georges Pompidou, president of France from 1969 to 1974\\n Valéry Giscard d'Estaing, President of France beginning in 1974\\n Gloria Steinem, American feminist\", metadata={'chunk': 5.0, 'source': 'https://simple.wikipedia.org/wiki/1970s', 'title': '1970s', 'wiki-id': '2952'}), Document(page_content='Yasser Arafat, Palestinian leader\\n Arnold Schwarzenegger, Austrian actor\\n Sylvester Stallone, American actor\\n Michael Jordan, American basketball-player\\n Tom Cruise, American actor\\n Eddie Murphy, American actor\\n Duran Duran, English band\\n Eurythmics, music band\\n Prince, American singer\\n Madonna, American singer\\n Michael Jackson, American singer\\n Bob Geldof, musician and fundraiser\\n Iron Maiden, British heavy metal band\\n N.W.A, hip hop group\\n Ferdinand Marcos, President of the Philippines\\n Corazon Aquino, President of the Philippines\\n Indira Gandhi, prime minister of India until 1984\\n Rajiv Gandhi, prime minister of India from 1984 until 1989\\n Fidel Castro, leader of Cuba\\n Augusto Pinochet, Chilean dictator\\n Jorge Rafael Videla, dictator of Argentina until 1981\\n Leopoldo Galtieri, dictator of Argentina from 1981 to 1982\\n Nicolae Ceaușescu, Romanian dictator until 1989\\n Wojciech Jaruzelski, Polish communist leader\\n Lech Walesa, leader of Polish Solidarity movement\\n Ayatollah Khomeini, leader of Iran\\n Mikhail Gorbachev, the last chairman of the communist party of the Soviet Union.', metadata={'chunk': 4.0, 'source': 'https://simple.wikipedia.org/wiki/1980s', 'title': '1980s', 'wiki-id': '2953'})]}\n"
          ]
        }
      ],
      "source": [
        "from langchain.chains import RetrievalQAWithSourcesChain\n",
        "\n",
        "qa_with_sources = RetrievalQAWithSourcesChain.from_chain_type(\n",
        "    llm=llm,\n",
        "    chain_type=\"stuff\",\n",
        "    retriever=vectorstore.as_retriever(),\n",
        "    return_source_documents=True\n",
        ")\n",
        "\n",
        "qa_chat_with_sources = RetrievalQAWithSourcesChain.from_chain_type(\n",
        "    llm=chat_model,\n",
        "    chain_type=\"stuff\",\n",
        "    retriever=vectorstore.as_retriever(),\n",
        "    return_source_documents=True\n",
        ")\n",
        "\n",
        "query = 'What are some of the dictators mentioned?'\n",
        "print(qa_with_sources.invoke(query))\n",
        "print('====================================================')\n",
        "print(qa_chat_with_sources.invoke(query))"
      ]
    },
    {
      "cell_type": "code",
      "source": [
        "query = 'What is monarchy? '\n",
        "print(qa_with_sources(query))\n",
        "print(qa_chat_with_sources(query))"
      ],
      "metadata": {
        "id": "o6Ei3qnguZEb",
        "outputId": "d1a02a6c-308b-4f82-879c-b1e3eb8035e3",
        "colab": {
          "base_uri": "https://localhost:8080/"
        }
      },
      "execution_count": 154,
      "outputs": [
        {
          "output_type": "stream",
          "name": "stdout",
          "text": [
            "{'question': 'What is monarchy? ', 'answer': ' A monarchy is a government ruled by a king or queen who inherits their position, while an aristocracy is a government run by the people of a ruling class.\\n', 'sources': '', 'source_documents': [Document(page_content='A monarch is the ruler of a monarchy. Monarchs usually get their power by inheritance – from one of their parents. When a ruler dies their child, or nearest relative, takes over. A male monarch is usually called a king or emperor. A female monarch is usually called a queen or empress.\\n\\nMonarchs were very common in history until the 20th century. Most European countries had monarchs in past centuries, but no longer have them. Some countries that still have monarchs have other leaders that actually have the power. Most monarchies are hereditary monarchies. Some countries elect their monarch instead of using inheritance, like the Holy Roman Empire and Malaysia. Some republics, such as the Dutch Republic or North Korea, had or have a hereditary ruler but do not call him a \"monarch\".\\n\\nMonarchs can also have monarchs of lower honour below them, e.g. an empire could include several kingdoms, and a kingdom had several duchies or principalities, nations would rarely include all titles, usually going from duchy to kingdom instead of duchy to principality to kingdom.  Prince/princess means \\'ruler of a principality\\' and/or \\'son of a king/queen\\'. Some other languages have separate words for them.\\n\\nMonarchs by rank\\n\\nRelated pages \\nDivine right of kings\\n\\nReferences\\n\\nOther websites', metadata={'chunk': 0.0, 'source': 'https://simple.wikipedia.org/wiki/Monarch', 'title': 'Monarch', 'wiki-id': '3601'}), Document(page_content='A queen is a woman who rules a country, because of inheritance. A queen usually comes to power after the death of the previous king or queen, who is her parent. A country that is ruled by a queen is called a kingdom – the same as a country ruled by a king. \\n\\nThe wife of a king is also called a queen. However, the husband of a queen is not always called a king. For example, the last King of Britain (George VI) had a wife (Elizabeth), who was called Queen Elizabeth. He had no sons, so he was followed by his elder daughter, who is also called Elizabeth. She became Queen Elizabeth II. She was married to The Duke of Edinburgh until his death on April 9, 2021; but when she became Queen he did not become King.\\n\\nMany people who study government think a country should not have a monarchy. They argue that rulers ought to be elected, or that monarchs are often corrupt.  Aristotle’s “Politics” compares the different forms of government which a state may have. He claims monarchy to be one of the worst regimes because one leader may be easily corrupted, even if they were selected as the most wise and deserving ruler of an entire group. \\n\\nMany people in countries such as the UK want to keep their royal family as they have remained a traditional icon and source of income for the country. However, in the UK their influence in the rule of the country is very small, leaving government to the governing political party elected by the people. This is because in a constitutional monarchy the monarch has only the power of head of state.\\n\\nQueen regnant\\n\\nA queen regnant is head of state, and has all the powers of a sovereign.', metadata={'chunk': 0.0, 'source': 'https://simple.wikipedia.org/wiki/Queen', 'title': 'Queen', 'wiki-id': '3309'}), Document(page_content=\"A king is a man who rules a country, because of inheritance. A king usually comes to power when the previous monarch dies, who is usually a family member of his. Sometimes a person may become king due to the previous monarch's abdication, for example George VI. For most of history, most countries were ruled in this way, especially in Europe. Some countries, such as France, are no longer monarchies. Some, such as the United Kingdom, still have a royal family. In some countries, people chose a new king from other people to decide from. \\n\\nThe wife of a king is called a queen. A woman who becomes a ruler because of inheritance is also called a queen.\\n\\nIf a country has a king or a queen, that means it is a monarchy. A country which a king or queen rules is called a kingdom.\\n\\nIn the Muslim world a King would be known as Malik or Sultan.\\n\\nRelated pages\\n Emperor\\n Prince\\n Queen\\n Princess\\n Sultan\", metadata={'chunk': 0.0, 'source': 'https://simple.wikipedia.org/wiki/King', 'title': 'King', 'wiki-id': '410'}), Document(page_content='However, many countries have forms of democracy which limit freedom of choice by the voters. One of the most common ways is to limit which parties can stand for parliament, or limit the parties access to mass media such as television. Another way is to rig the voting system by removing votes from opposition voters and substituting votes for the party in power. Few countries are textbook democracies, and the differences between them has been much studied.\\n\\nMonarchy \\nA monarchy is a government ruled by a king or a queen who inherits their position from their family, which is often called the \"royal family.\" There are two types of monarchies: absolute monarchies and constitutional monarchies. In an absolute monarchy, the ruler has no limits on their wishes or powers. In a constitutional monarchy a ruler\\'s powers are limited by a document called a constitution. \\n\\nIn modern times, monarchies still exist in Great Britain and the Commonwealth, the Netherlands, Spain, Japan, Saudi Arabia, and Thailand, along with several other countries. A monarch may have one of several titles: King or Queen, Emperor or Empress, or Emir.\\n\\nAristocracy \\nAn aristocracy is a government run by the people of a ruling class, usually people who come from wealthy families, families with a particular set of values, or people who come from a particular place. A person who rules in an aristocracy is an aristocrat. Aristocracy is different from nobility, in that nobility means that one bloodline would rule, an aristocracy would mean that a few or many bloodlines would rule, or that rulers be chosen in a different manner.', metadata={'chunk': 1.0, 'source': 'https://simple.wikipedia.org/wiki/Government', 'title': 'Government', 'wiki-id': '312'})]}\n",
            "{'question': 'What is monarchy? ', 'answer': 'The president did not mention Michael Jackson in his speech during the event.\\n\\n', 'sources': '', 'source_documents': [Document(page_content='A monarch is the ruler of a monarchy. Monarchs usually get their power by inheritance – from one of their parents. When a ruler dies their child, or nearest relative, takes over. A male monarch is usually called a king or emperor. A female monarch is usually called a queen or empress.\\n\\nMonarchs were very common in history until the 20th century. Most European countries had monarchs in past centuries, but no longer have them. Some countries that still have monarchs have other leaders that actually have the power. Most monarchies are hereditary monarchies. Some countries elect their monarch instead of using inheritance, like the Holy Roman Empire and Malaysia. Some republics, such as the Dutch Republic or North Korea, had or have a hereditary ruler but do not call him a \"monarch\".\\n\\nMonarchs can also have monarchs of lower honour below them, e.g. an empire could include several kingdoms, and a kingdom had several duchies or principalities, nations would rarely include all titles, usually going from duchy to kingdom instead of duchy to principality to kingdom.  Prince/princess means \\'ruler of a principality\\' and/or \\'son of a king/queen\\'. Some other languages have separate words for them.\\n\\nMonarchs by rank\\n\\nRelated pages \\nDivine right of kings\\n\\nReferences\\n\\nOther websites', metadata={'chunk': 0.0, 'source': 'https://simple.wikipedia.org/wiki/Monarch', 'title': 'Monarch', 'wiki-id': '3601'}), Document(page_content='A queen is a woman who rules a country, because of inheritance. A queen usually comes to power after the death of the previous king or queen, who is her parent. A country that is ruled by a queen is called a kingdom – the same as a country ruled by a king. \\n\\nThe wife of a king is also called a queen. However, the husband of a queen is not always called a king. For example, the last King of Britain (George VI) had a wife (Elizabeth), who was called Queen Elizabeth. He had no sons, so he was followed by his elder daughter, who is also called Elizabeth. She became Queen Elizabeth II. She was married to The Duke of Edinburgh until his death on April 9, 2021; but when she became Queen he did not become King.\\n\\nMany people who study government think a country should not have a monarchy. They argue that rulers ought to be elected, or that monarchs are often corrupt.  Aristotle’s “Politics” compares the different forms of government which a state may have. He claims monarchy to be one of the worst regimes because one leader may be easily corrupted, even if they were selected as the most wise and deserving ruler of an entire group. \\n\\nMany people in countries such as the UK want to keep their royal family as they have remained a traditional icon and source of income for the country. However, in the UK their influence in the rule of the country is very small, leaving government to the governing political party elected by the people. This is because in a constitutional monarchy the monarch has only the power of head of state.\\n\\nQueen regnant\\n\\nA queen regnant is head of state, and has all the powers of a sovereign.', metadata={'chunk': 0.0, 'source': 'https://simple.wikipedia.org/wiki/Queen', 'title': 'Queen', 'wiki-id': '3309'}), Document(page_content=\"A king is a man who rules a country, because of inheritance. A king usually comes to power when the previous monarch dies, who is usually a family member of his. Sometimes a person may become king due to the previous monarch's abdication, for example George VI. For most of history, most countries were ruled in this way, especially in Europe. Some countries, such as France, are no longer monarchies. Some, such as the United Kingdom, still have a royal family. In some countries, people chose a new king from other people to decide from. \\n\\nThe wife of a king is called a queen. A woman who becomes a ruler because of inheritance is also called a queen.\\n\\nIf a country has a king or a queen, that means it is a monarchy. A country which a king or queen rules is called a kingdom.\\n\\nIn the Muslim world a King would be known as Malik or Sultan.\\n\\nRelated pages\\n Emperor\\n Prince\\n Queen\\n Princess\\n Sultan\", metadata={'chunk': 0.0, 'source': 'https://simple.wikipedia.org/wiki/King', 'title': 'King', 'wiki-id': '410'}), Document(page_content='However, many countries have forms of democracy which limit freedom of choice by the voters. One of the most common ways is to limit which parties can stand for parliament, or limit the parties access to mass media such as television. Another way is to rig the voting system by removing votes from opposition voters and substituting votes for the party in power. Few countries are textbook democracies, and the differences between them has been much studied.\\n\\nMonarchy \\nA monarchy is a government ruled by a king or a queen who inherits their position from their family, which is often called the \"royal family.\" There are two types of monarchies: absolute monarchies and constitutional monarchies. In an absolute monarchy, the ruler has no limits on their wishes or powers. In a constitutional monarchy a ruler\\'s powers are limited by a document called a constitution. \\n\\nIn modern times, monarchies still exist in Great Britain and the Commonwealth, the Netherlands, Spain, Japan, Saudi Arabia, and Thailand, along with several other countries. A monarch may have one of several titles: King or Queen, Emperor or Empress, or Emir.\\n\\nAristocracy \\nAn aristocracy is a government run by the people of a ruling class, usually people who come from wealthy families, families with a particular set of values, or people who come from a particular place. A person who rules in an aristocracy is an aristocrat. Aristocracy is different from nobility, in that nobility means that one bloodline would rule, an aristocracy would mean that a few or many bloodlines would rule, or that rulers be chosen in a different manner.', metadata={'chunk': 1.0, 'source': 'https://simple.wikipedia.org/wiki/Government', 'title': 'Government', 'wiki-id': '312'})]}\n"
          ]
        }
      ]
    },
    {
      "cell_type": "markdown",
      "source": [
        "Not able to debug why the AI model is returning the content from the prompt. Some issue with the context window (but a longer text \"wahat is monarchy and what is monarchy\" works even better).\n",
        "\n",
        "The issue is not even consistent with \"chat\" models so maybe can't associate it with a possible templating issue with chat model's template."
      ],
      "metadata": {
        "id": "LC8pJ22ZKOBd"
      }
    },
    {
      "cell_type": "code",
      "source": [
        "query = 'In which year, did Turing return to Cambridge?'\n",
        "print(qa_with_sources(query))\n",
        "print(qa_chat_with_sources(query))"
      ],
      "metadata": {
        "id": "MZm1eg_yvOPd",
        "outputId": "694d5af6-a074-43d8-dc4a-a75be227b7b9",
        "colab": {
          "base_uri": "https://localhost:8080/"
        }
      },
      "execution_count": 150,
      "outputs": [
        {
          "output_type": "stream",
          "name": "stdout",
          "text": [
            "{'question': 'In which year, did Turing return to Cambridge?', 'answer': ' Alan Turing returned to Cambridge in 1947 for a sabbatical year.\\n', 'sources': 'https://simple.wikipedia.org/wiki/Alan%20Turing', 'source_documents': [Document(page_content='Alan Mathison Turing OBE FRS (London, 23 June 1912 – Wilmslow, Cheshire, 7 June 1954) was an English mathematician and computer scientist. He was born in Maida Vale, London.\\n\\nEarly life and family \\nAlan Turing was born in Maida Vale, London on 23 June 1912. His father was part of a family of merchants from Scotland. His mother, Ethel Sara, was the daughter of an engineer.\\n\\nEducation \\nTuring went to St. Michael\\'s, a school at 20 Charles Road, St Leonards-on-sea, when he was five years old.\\n\"This is only a foretaste of what is to come, and only the shadow of what is going to be.” – Alan Turing.\\n\\nThe Stoney family were once prominent landlords, here in North Tipperary. His mother Ethel Sara Stoney (1881–1976) was daughter of Edward Waller Stoney (Borrisokane, North Tipperary) and Sarah Crawford (Cartron Abbey, Co. Longford); Protestant Anglo-Irish gentry.\\n\\nEducated in Dublin at Alexandra School and College; on October 1st 1907 she married Julius Mathison Turing, latter son of Reverend John Robert Turing and Fanny Boyd, in Dublin. Born on June 23rd 1912, Alan Turing would go on to be regarded as one of the greatest figures of the twentieth century.', metadata={'chunk': 0.0, 'source': 'https://simple.wikipedia.org/wiki/Alan%20Turing', 'title': 'Alan Turing', 'wiki-id': '13'}), Document(page_content='A brilliant mathematician and cryptographer Alan was to become the founder of modern-day computer science and artificial intelligence; designing a machine at Bletchley Park to break secret Enigma encrypted messages used by the Nazi German war machine to protect sensitive commercial, diplomatic and military communications during World War 2. Thus, Turing made the single biggest contribution to the Allied victory in the war against Nazi Germany, possibly saving the lives of an estimated 2 million people, through his effort in shortening World War II.\\n\\nIn 2013, almost 60 years later, Turing received a posthumous Royal Pardon from Queen Elizabeth II. Today, the “Turing law” grants an automatic pardon to men who died before the law came into force, making it possible for living convicted gay men to seek pardons for offences now no longer on the statute book.\\n\\nAlas, Turing accidentally or otherwise lost his life in 1954, having been subjected by a British court to chemical castration, thus avoiding a custodial sentence. He is known to have ended his life at the age of 41 years, by eating an apple laced with cyanide.\\n\\nCareer \\nTuring was one of the people who worked on the first computers. He created the theoretical  Turing machine in 1936. The machine was imaginary, but it included the idea of a computer program.\\n\\nTuring was interested in artificial intelligence. He proposed the Turing test, to say when a machine could be called \"intelligent\". A computer could be said to \"think\" if a human talking with it could not tell it was a machine.', metadata={'chunk': 1.0, 'source': 'https://simple.wikipedia.org/wiki/Alan%20Turing', 'title': 'Alan Turing', 'wiki-id': '13'}), Document(page_content='During World War II, Turing worked with others to break German ciphers (secret messages). He  worked for the Government Code and Cypher School (GC&CS) at Bletchley Park, Britain\\'s codebreaking centre that produced Ultra intelligence.\\nUsing cryptanalysis, he helped to break the codes of the Enigma machine. After that, he worked on other German codes.\\n\\nFrom 1945 to 1947, Turing worked on the design of the ACE (Automatic Computing Engine) at the National Physical Laboratory. He presented a paper on 19 February 1946. That paper was \"the first detailed design of a stored-program computer\". Although it was possible to build ACE, there were delays in starting the project. In late 1947 he returned to Cambridge for a sabbatical year. While he was at Cambridge, the Pilot ACE was built without him. It ran its first program on 10\\xa0May 1950.\\n\\nPrivate life \\nTuring was a homosexual man. In 1952, he admitted having had sex with a man in England. At that time, homosexual acts were illegal. Turing was convicted. He had to choose between going to jail and taking hormones to lower his sex drive. He decided to take the hormones. After his punishment, he became impotent. He also grew breasts.\\n\\nIn May 2012, a private member\\'s bill was put before the House of Lords to grant Turing a statutory pardon. In July 2013, the government supported it. A royal pardon was granted on 24 December 2013.', metadata={'chunk': 2.0, 'source': 'https://simple.wikipedia.org/wiki/Alan%20Turing', 'title': 'Alan Turing', 'wiki-id': '13'}), Document(page_content='Death \\nIn 1954, Turing died from cyanide poisoning. The cyanide came from either an apple which was poisoned with cyanide, or from water that had cyanide in it. The reason for the confusion is that the police never tested the apple for cyanide. It is also suspected that he committed suicide.\\n\\nThe treatment forced on him is now believed to be very wrong. It is against medical ethics and international laws of human rights. In August 2009, a petition asking the British Government to apologise to Turing for punishing him for being a homosexual was started. The petition received thousands of signatures. Prime Minister Gordon Brown acknowledged the petition. He called Turing\\'s treatment \"appalling\".\\n\\nReferences\\n\\nOther websites \\nJack Copeland 2012. Alan Turing: The codebreaker who saved \\'millions of lives\\'. BBC News / Technology \\n\\nEnglish computer scientists\\nEnglish LGBT people\\nEnglish mathematicians\\nGay men\\nLGBT scientists\\nScientists from London\\nSuicides by poison\\nSuicides in the United Kingdom\\n1912 births\\n1954 deaths\\nOfficers of the Order of the British Empire', metadata={'chunk': 3.0, 'source': 'https://simple.wikipedia.org/wiki/Alan%20Turing', 'title': 'Alan Turing', 'wiki-id': '13'})]}\n",
            "{'question': 'In which year, did Turing return to Cambridge?', 'answer': 'Alan Turing returned to Cambridge during his sabbatical year in 1947, after working on the design of the ACE (Automatic Computing Engine) at the National Physical Laboratory from 1945 to 1947. This information can be found on his Wikipedia page, which is referenced in the given text.', 'sources': '', 'source_documents': [Document(page_content='Alan Mathison Turing OBE FRS (London, 23 June 1912 – Wilmslow, Cheshire, 7 June 1954) was an English mathematician and computer scientist. He was born in Maida Vale, London.\\n\\nEarly life and family \\nAlan Turing was born in Maida Vale, London on 23 June 1912. His father was part of a family of merchants from Scotland. His mother, Ethel Sara, was the daughter of an engineer.\\n\\nEducation \\nTuring went to St. Michael\\'s, a school at 20 Charles Road, St Leonards-on-sea, when he was five years old.\\n\"This is only a foretaste of what is to come, and only the shadow of what is going to be.” – Alan Turing.\\n\\nThe Stoney family were once prominent landlords, here in North Tipperary. His mother Ethel Sara Stoney (1881–1976) was daughter of Edward Waller Stoney (Borrisokane, North Tipperary) and Sarah Crawford (Cartron Abbey, Co. Longford); Protestant Anglo-Irish gentry.\\n\\nEducated in Dublin at Alexandra School and College; on October 1st 1907 she married Julius Mathison Turing, latter son of Reverend John Robert Turing and Fanny Boyd, in Dublin. Born on June 23rd 1912, Alan Turing would go on to be regarded as one of the greatest figures of the twentieth century.', metadata={'chunk': 0.0, 'source': 'https://simple.wikipedia.org/wiki/Alan%20Turing', 'title': 'Alan Turing', 'wiki-id': '13'}), Document(page_content='A brilliant mathematician and cryptographer Alan was to become the founder of modern-day computer science and artificial intelligence; designing a machine at Bletchley Park to break secret Enigma encrypted messages used by the Nazi German war machine to protect sensitive commercial, diplomatic and military communications during World War 2. Thus, Turing made the single biggest contribution to the Allied victory in the war against Nazi Germany, possibly saving the lives of an estimated 2 million people, through his effort in shortening World War II.\\n\\nIn 2013, almost 60 years later, Turing received a posthumous Royal Pardon from Queen Elizabeth II. Today, the “Turing law” grants an automatic pardon to men who died before the law came into force, making it possible for living convicted gay men to seek pardons for offences now no longer on the statute book.\\n\\nAlas, Turing accidentally or otherwise lost his life in 1954, having been subjected by a British court to chemical castration, thus avoiding a custodial sentence. He is known to have ended his life at the age of 41 years, by eating an apple laced with cyanide.\\n\\nCareer \\nTuring was one of the people who worked on the first computers. He created the theoretical  Turing machine in 1936. The machine was imaginary, but it included the idea of a computer program.\\n\\nTuring was interested in artificial intelligence. He proposed the Turing test, to say when a machine could be called \"intelligent\". A computer could be said to \"think\" if a human talking with it could not tell it was a machine.', metadata={'chunk': 1.0, 'source': 'https://simple.wikipedia.org/wiki/Alan%20Turing', 'title': 'Alan Turing', 'wiki-id': '13'}), Document(page_content='During World War II, Turing worked with others to break German ciphers (secret messages). He  worked for the Government Code and Cypher School (GC&CS) at Bletchley Park, Britain\\'s codebreaking centre that produced Ultra intelligence.\\nUsing cryptanalysis, he helped to break the codes of the Enigma machine. After that, he worked on other German codes.\\n\\nFrom 1945 to 1947, Turing worked on the design of the ACE (Automatic Computing Engine) at the National Physical Laboratory. He presented a paper on 19 February 1946. That paper was \"the first detailed design of a stored-program computer\". Although it was possible to build ACE, there were delays in starting the project. In late 1947 he returned to Cambridge for a sabbatical year. While he was at Cambridge, the Pilot ACE was built without him. It ran its first program on 10\\xa0May 1950.\\n\\nPrivate life \\nTuring was a homosexual man. In 1952, he admitted having had sex with a man in England. At that time, homosexual acts were illegal. Turing was convicted. He had to choose between going to jail and taking hormones to lower his sex drive. He decided to take the hormones. After his punishment, he became impotent. He also grew breasts.\\n\\nIn May 2012, a private member\\'s bill was put before the House of Lords to grant Turing a statutory pardon. In July 2013, the government supported it. A royal pardon was granted on 24 December 2013.', metadata={'chunk': 2.0, 'source': 'https://simple.wikipedia.org/wiki/Alan%20Turing', 'title': 'Alan Turing', 'wiki-id': '13'}), Document(page_content='Death \\nIn 1954, Turing died from cyanide poisoning. The cyanide came from either an apple which was poisoned with cyanide, or from water that had cyanide in it. The reason for the confusion is that the police never tested the apple for cyanide. It is also suspected that he committed suicide.\\n\\nThe treatment forced on him is now believed to be very wrong. It is against medical ethics and international laws of human rights. In August 2009, a petition asking the British Government to apologise to Turing for punishing him for being a homosexual was started. The petition received thousands of signatures. Prime Minister Gordon Brown acknowledged the petition. He called Turing\\'s treatment \"appalling\".\\n\\nReferences\\n\\nOther websites \\nJack Copeland 2012. Alan Turing: The codebreaker who saved \\'millions of lives\\'. BBC News / Technology \\n\\nEnglish computer scientists\\nEnglish LGBT people\\nEnglish mathematicians\\nGay men\\nLGBT scientists\\nScientists from London\\nSuicides by poison\\nSuicides in the United Kingdom\\n1912 births\\n1954 deaths\\nOfficers of the Order of the British Empire', metadata={'chunk': 3.0, 'source': 'https://simple.wikipedia.org/wiki/Alan%20Turing', 'title': 'Alan Turing', 'wiki-id': '13'})]}\n"
          ]
        }
      ]
    },
    {
      "cell_type": "code",
      "source": [
        "# complete contextualizing/adding chat histroy tutorial\n",
        "# add that here\n",
        "# add more functioanlity\n",
        "# deploy\n",
        "# move towards other use-cases"
      ],
      "metadata": {
        "id": "Ve_LfgAGwCIR"
      },
      "execution_count": null,
      "outputs": []
    },
    {
      "cell_type": "code",
      "execution_count": 156,
      "metadata": {
        "id": "49tkvRLolscu"
      },
      "outputs": [],
      "source": [
        "# pc.delete_index(index_name)"
      ]
    },
    {
      "cell_type": "markdown",
      "metadata": {
        "id": "ehJEn68qADoH"
      },
      "source": [
        "---"
      ]
    }
  ],
  "metadata": {
    "colab": {
      "provenance": []
    },
    "kernelspec": {
      "display_name": "Python 3",
      "name": "python3"
    },
    "language_info": {
      "codemirror_mode": {
        "name": "ipython",
        "version": 3
      },
      "file_extension": ".py",
      "mimetype": "text/x-python",
      "name": "python",
      "nbconvert_exporter": "python",
      "pygments_lexer": "ipython3",
      "version": "3.9.12"
    },
    "widgets": {
      "application/vnd.jupyter.widget-state+json": {
        "2e8fb824899e424d9cce394cf1b280b0": {
          "model_module": "@jupyter-widgets/controls",
          "model_name": "HBoxModel",
          "model_module_version": "1.5.0",
          "state": {
            "_dom_classes": [],
            "_model_module": "@jupyter-widgets/controls",
            "_model_module_version": "1.5.0",
            "_model_name": "HBoxModel",
            "_view_count": null,
            "_view_module": "@jupyter-widgets/controls",
            "_view_module_version": "1.5.0",
            "_view_name": "HBoxView",
            "box_style": "",
            "children": [
              "IPY_MODEL_de851901828f420eb44907b6119f0fa7",
              "IPY_MODEL_2d65c70aa0f742818a6c2f95e378f360",
              "IPY_MODEL_225d5af01dea4b2a8289964fda924eb5"
            ],
            "layout": "IPY_MODEL_bb8df9fd8800411eac39d520b1a0d755"
          }
        },
        "de851901828f420eb44907b6119f0fa7": {
          "model_module": "@jupyter-widgets/controls",
          "model_name": "HTMLModel",
          "model_module_version": "1.5.0",
          "state": {
            "_dom_classes": [],
            "_model_module": "@jupyter-widgets/controls",
            "_model_module_version": "1.5.0",
            "_model_name": "HTMLModel",
            "_view_count": null,
            "_view_module": "@jupyter-widgets/controls",
            "_view_module_version": "1.5.0",
            "_view_name": "HTMLView",
            "description": "",
            "description_tooltip": null,
            "layout": "IPY_MODEL_4517063c6198498a88b4c255b546c301",
            "placeholder": "​",
            "style": "IPY_MODEL_1d009f979c18447798f8b391c9c9622e",
            "value": "100%"
          }
        },
        "2d65c70aa0f742818a6c2f95e378f360": {
          "model_module": "@jupyter-widgets/controls",
          "model_name": "FloatProgressModel",
          "model_module_version": "1.5.0",
          "state": {
            "_dom_classes": [],
            "_model_module": "@jupyter-widgets/controls",
            "_model_module_version": "1.5.0",
            "_model_name": "FloatProgressModel",
            "_view_count": null,
            "_view_module": "@jupyter-widgets/controls",
            "_view_module_version": "1.5.0",
            "_view_name": "ProgressView",
            "bar_style": "success",
            "description": "",
            "description_tooltip": null,
            "layout": "IPY_MODEL_95323b20bcee43ac8345da85ce09fb93",
            "max": 1000,
            "min": 0,
            "orientation": "horizontal",
            "style": "IPY_MODEL_d180615a06d74216825c85b13384d597",
            "value": 1000
          }
        },
        "225d5af01dea4b2a8289964fda924eb5": {
          "model_module": "@jupyter-widgets/controls",
          "model_name": "HTMLModel",
          "model_module_version": "1.5.0",
          "state": {
            "_dom_classes": [],
            "_model_module": "@jupyter-widgets/controls",
            "_model_module_version": "1.5.0",
            "_model_name": "HTMLModel",
            "_view_count": null,
            "_view_module": "@jupyter-widgets/controls",
            "_view_module_version": "1.5.0",
            "_view_name": "HTMLView",
            "description": "",
            "description_tooltip": null,
            "layout": "IPY_MODEL_eef3d65601244a11812a7ed28c2062a7",
            "placeholder": "​",
            "style": "IPY_MODEL_277c7f03e19f489991014af10b349c66",
            "value": " 1000/1000 [46:20&lt;00:00,  1.49s/it]"
          }
        },
        "bb8df9fd8800411eac39d520b1a0d755": {
          "model_module": "@jupyter-widgets/base",
          "model_name": "LayoutModel",
          "model_module_version": "1.2.0",
          "state": {
            "_model_module": "@jupyter-widgets/base",
            "_model_module_version": "1.2.0",
            "_model_name": "LayoutModel",
            "_view_count": null,
            "_view_module": "@jupyter-widgets/base",
            "_view_module_version": "1.2.0",
            "_view_name": "LayoutView",
            "align_content": null,
            "align_items": null,
            "align_self": null,
            "border": null,
            "bottom": null,
            "display": null,
            "flex": null,
            "flex_flow": null,
            "grid_area": null,
            "grid_auto_columns": null,
            "grid_auto_flow": null,
            "grid_auto_rows": null,
            "grid_column": null,
            "grid_gap": null,
            "grid_row": null,
            "grid_template_areas": null,
            "grid_template_columns": null,
            "grid_template_rows": null,
            "height": null,
            "justify_content": null,
            "justify_items": null,
            "left": null,
            "margin": null,
            "max_height": null,
            "max_width": null,
            "min_height": null,
            "min_width": null,
            "object_fit": null,
            "object_position": null,
            "order": null,
            "overflow": null,
            "overflow_x": null,
            "overflow_y": null,
            "padding": null,
            "right": null,
            "top": null,
            "visibility": null,
            "width": null
          }
        },
        "4517063c6198498a88b4c255b546c301": {
          "model_module": "@jupyter-widgets/base",
          "model_name": "LayoutModel",
          "model_module_version": "1.2.0",
          "state": {
            "_model_module": "@jupyter-widgets/base",
            "_model_module_version": "1.2.0",
            "_model_name": "LayoutModel",
            "_view_count": null,
            "_view_module": "@jupyter-widgets/base",
            "_view_module_version": "1.2.0",
            "_view_name": "LayoutView",
            "align_content": null,
            "align_items": null,
            "align_self": null,
            "border": null,
            "bottom": null,
            "display": null,
            "flex": null,
            "flex_flow": null,
            "grid_area": null,
            "grid_auto_columns": null,
            "grid_auto_flow": null,
            "grid_auto_rows": null,
            "grid_column": null,
            "grid_gap": null,
            "grid_row": null,
            "grid_template_areas": null,
            "grid_template_columns": null,
            "grid_template_rows": null,
            "height": null,
            "justify_content": null,
            "justify_items": null,
            "left": null,
            "margin": null,
            "max_height": null,
            "max_width": null,
            "min_height": null,
            "min_width": null,
            "object_fit": null,
            "object_position": null,
            "order": null,
            "overflow": null,
            "overflow_x": null,
            "overflow_y": null,
            "padding": null,
            "right": null,
            "top": null,
            "visibility": null,
            "width": null
          }
        },
        "1d009f979c18447798f8b391c9c9622e": {
          "model_module": "@jupyter-widgets/controls",
          "model_name": "DescriptionStyleModel",
          "model_module_version": "1.5.0",
          "state": {
            "_model_module": "@jupyter-widgets/controls",
            "_model_module_version": "1.5.0",
            "_model_name": "DescriptionStyleModel",
            "_view_count": null,
            "_view_module": "@jupyter-widgets/base",
            "_view_module_version": "1.2.0",
            "_view_name": "StyleView",
            "description_width": ""
          }
        },
        "95323b20bcee43ac8345da85ce09fb93": {
          "model_module": "@jupyter-widgets/base",
          "model_name": "LayoutModel",
          "model_module_version": "1.2.0",
          "state": {
            "_model_module": "@jupyter-widgets/base",
            "_model_module_version": "1.2.0",
            "_model_name": "LayoutModel",
            "_view_count": null,
            "_view_module": "@jupyter-widgets/base",
            "_view_module_version": "1.2.0",
            "_view_name": "LayoutView",
            "align_content": null,
            "align_items": null,
            "align_self": null,
            "border": null,
            "bottom": null,
            "display": null,
            "flex": null,
            "flex_flow": null,
            "grid_area": null,
            "grid_auto_columns": null,
            "grid_auto_flow": null,
            "grid_auto_rows": null,
            "grid_column": null,
            "grid_gap": null,
            "grid_row": null,
            "grid_template_areas": null,
            "grid_template_columns": null,
            "grid_template_rows": null,
            "height": null,
            "justify_content": null,
            "justify_items": null,
            "left": null,
            "margin": null,
            "max_height": null,
            "max_width": null,
            "min_height": null,
            "min_width": null,
            "object_fit": null,
            "object_position": null,
            "order": null,
            "overflow": null,
            "overflow_x": null,
            "overflow_y": null,
            "padding": null,
            "right": null,
            "top": null,
            "visibility": null,
            "width": null
          }
        },
        "d180615a06d74216825c85b13384d597": {
          "model_module": "@jupyter-widgets/controls",
          "model_name": "ProgressStyleModel",
          "model_module_version": "1.5.0",
          "state": {
            "_model_module": "@jupyter-widgets/controls",
            "_model_module_version": "1.5.0",
            "_model_name": "ProgressStyleModel",
            "_view_count": null,
            "_view_module": "@jupyter-widgets/base",
            "_view_module_version": "1.2.0",
            "_view_name": "StyleView",
            "bar_color": null,
            "description_width": ""
          }
        },
        "eef3d65601244a11812a7ed28c2062a7": {
          "model_module": "@jupyter-widgets/base",
          "model_name": "LayoutModel",
          "model_module_version": "1.2.0",
          "state": {
            "_model_module": "@jupyter-widgets/base",
            "_model_module_version": "1.2.0",
            "_model_name": "LayoutModel",
            "_view_count": null,
            "_view_module": "@jupyter-widgets/base",
            "_view_module_version": "1.2.0",
            "_view_name": "LayoutView",
            "align_content": null,
            "align_items": null,
            "align_self": null,
            "border": null,
            "bottom": null,
            "display": null,
            "flex": null,
            "flex_flow": null,
            "grid_area": null,
            "grid_auto_columns": null,
            "grid_auto_flow": null,
            "grid_auto_rows": null,
            "grid_column": null,
            "grid_gap": null,
            "grid_row": null,
            "grid_template_areas": null,
            "grid_template_columns": null,
            "grid_template_rows": null,
            "height": null,
            "justify_content": null,
            "justify_items": null,
            "left": null,
            "margin": null,
            "max_height": null,
            "max_width": null,
            "min_height": null,
            "min_width": null,
            "object_fit": null,
            "object_position": null,
            "order": null,
            "overflow": null,
            "overflow_x": null,
            "overflow_y": null,
            "padding": null,
            "right": null,
            "top": null,
            "visibility": null,
            "width": null
          }
        },
        "277c7f03e19f489991014af10b349c66": {
          "model_module": "@jupyter-widgets/controls",
          "model_name": "DescriptionStyleModel",
          "model_module_version": "1.5.0",
          "state": {
            "_model_module": "@jupyter-widgets/controls",
            "_model_module_version": "1.5.0",
            "_model_name": "DescriptionStyleModel",
            "_view_count": null,
            "_view_module": "@jupyter-widgets/base",
            "_view_module_version": "1.2.0",
            "_view_name": "StyleView",
            "description_width": ""
          }
        }
      }
    }
  },
  "nbformat": 4,
  "nbformat_minor": 0
}